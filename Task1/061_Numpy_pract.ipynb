{
 "cells": [
  {
   "cell_type": "markdown",
   "metadata": {
    "id": "X4Yj_FYoTc2R"
   },
   "source": [
    "# Практичне завданняя по масивам `NumPy`\n",
    "\n",
    "Намагайтесь виконати завдання, не викоритовуючи циклів. Більшість завдань потребують 1-2 строки коду"
   ]
  },
  {
   "cell_type": "markdown",
   "metadata": {
    "id": "Eq9Jyg13Tc2U"
   },
   "source": [
    "0. Підготовка вхідних даних.\n",
    "\n",
    "Переконайтесь, що модуль `NumPy` встановлено на ваш комп'ютер.\n",
    "Виконайте наступний фрагмент коду, не вносячи ніяких змін. Він створить масив `data` з даними до завдання"
   ]
  },
  {
   "cell_type": "code",
   "execution_count": 1,
   "metadata": {
    "id": "YSzEZOynTc2V",
    "ExecuteTime": {
     "end_time": "2023-10-12T09:10:51.702816500Z",
     "start_time": "2023-10-12T09:10:51.558838700Z"
    }
   },
   "outputs": [
    {
     "name": "stdout",
     "output_type": "stream",
     "text": [
      "[4410  522   72 2700  738  170 1740   37  531  910 4186 2000 3139  704\n",
      " 5929   80  648 1476  570  630 1376 2208 2494 3864 4565 2449 5978 2716\n",
      "  637  348 1404  192  258  160  195 6300  910 2025  220  170  106 5976\n",
      "  440 4704  205 2065  415  612  336 6240 2241 2318 3696 2304  470  888\n",
      "  836 1210 1068 1550 3936 1746 4600 5084 3990 2714 5568 1771  777  161\n",
      "  972 5166    0 8370   44 1425  896 1534 1118 1680 1188 2880   69 3840\n",
      "  570 5082 3381 1776 4608 3182 1922 5676  882 4030 1824  245 3162 5040\n",
      " 1065 6762]\n"
     ]
    }
   ],
   "source": [
    "# не змінюйте код у цій ячейці\n",
    "\n",
    "import numpy as np\n",
    "from numpy import random\n",
    "\n",
    "np.random.seed(12345) # случайность неслучайна\n",
    "x=random.randint(100, size=(100))\n",
    "y=random.randint(100, size=(100))\n",
    "data=x*y\n",
    "print(data)\n"
   ]
  },
  {
   "cell_type": "markdown",
   "metadata": {
    "id": "hxJOOLg_Tc2W"
   },
   "source": [
    "1. Знайдіть найменше і найбільше значення в масиві `data`. Має получитись\n",
    "\n",
    "0       \n",
    "8370"
   ]
  },
  {
   "cell_type": "code",
   "execution_count": 6,
   "metadata": {
    "id": "CERSqxX8Tc2W",
    "ExecuteTime": {
     "end_time": "2023-10-12T09:18:42.038971700Z",
     "start_time": "2023-10-12T09:18:42.023973100Z"
    }
   },
   "outputs": [
    {
     "name": "stdout",
     "output_type": "stream",
     "text": [
      "0\n",
      "8370\n"
     ]
    }
   ],
   "source": [
    "# здесь може бути ваш код\n",
    "np.random.seed(12345)\n",
    "x=random.randint(100, size=(100))\n",
    "y=random.randint(100, size=(100))\n",
    "data=x*y\n",
    "min_number = min(data)\n",
    "max_number = max(data)\n",
    "print(min_number)\n",
    "print(max_number)"
   ]
  },
  {
   "cell_type": "markdown",
   "metadata": {
    "id": "4JABBfz-Tc2W"
   },
   "source": [
    "2. Визначте індекси, за якими розташовано найменше і найбільше значення в масиві `data`. Має получитись\n",
    "\n",
    "72      \n",
    "73"
   ]
  },
  {
   "cell_type": "code",
   "execution_count": 15,
   "metadata": {
    "id": "hrBiknRXTc2X",
    "ExecuteTime": {
     "end_time": "2023-10-12T09:28:10.376519700Z",
     "start_time": "2023-10-12T09:28:10.365526100Z"
    }
   },
   "outputs": [
    {
     "name": "stdout",
     "output_type": "stream",
     "text": [
      "72\n",
      "73\n"
     ]
    }
   ],
   "source": [
    "# здесь може бути ваш код\n",
    "np.random.seed(12345)\n",
    "x=random.randint(100, size=(100))\n",
    "y=random.randint(100, size=(100))\n",
    "data=x*y\n",
    "min_index=np.argmin(data)\n",
    "max_index=np.argmax(data)\n",
    "print(min_index)\n",
    "print(max_index)"
   ]
  },
  {
   "cell_type": "markdown",
   "metadata": {
    "id": "Tr1OW1mDTc2X"
   },
   "source": [
    "3. Перетворить масив `data` на матрицю розміром 10х10"
   ]
  },
  {
   "cell_type": "code",
   "execution_count": 21,
   "metadata": {
    "id": "J3XqzwnnTc2X",
    "ExecuteTime": {
     "end_time": "2023-10-12T09:36:37.840453200Z",
     "start_time": "2023-10-12T09:36:37.825456600Z"
    }
   },
   "outputs": [
    {
     "name": "stdout",
     "output_type": "stream",
     "text": [
      "[[4410  522   72 2700  738  170 1740   37  531  910]\n",
      " [4186 2000 3139  704 5929   80  648 1476  570  630]\n",
      " [1376 2208 2494 3864 4565 2449 5978 2716  637  348]\n",
      " [1404  192  258  160  195 6300  910 2025  220  170]\n",
      " [ 106 5976  440 4704  205 2065  415  612  336 6240]\n",
      " [2241 2318 3696 2304  470  888  836 1210 1068 1550]\n",
      " [3936 1746 4600 5084 3990 2714 5568 1771  777  161]\n",
      " [ 972 5166    0 8370   44 1425  896 1534 1118 1680]\n",
      " [1188 2880   69 3840  570 5082 3381 1776 4608 3182]\n",
      " [1922 5676  882 4030 1824  245 3162 5040 1065 6762]]\n"
     ]
    }
   ],
   "source": [
    "# здесь може бути ваш код\n",
    "np.random.seed(12345)\n",
    "x=random.randint(100, size=(100))\n",
    "y=random.randint(100, size=(100))\n",
    "data=x*y\n",
    "rows, cols = 10, 10\n",
    "data_matrix = data.reshape(rows, cols)\n",
    "print(data_matrix)"
   ]
  },
  {
   "cell_type": "markdown",
   "metadata": {
    "id": "Y3gWiLtRTc2Y"
   },
   "source": [
    "4. Знайдіть мінімальне значення в кожному рядку масиву `data`. Має получитись\n",
    "\n",
    "array([ 37,  80, 348, 160, 106, 470, 161,   0,  69, 245])"
   ]
  },
  {
   "cell_type": "code",
   "execution_count": 20,
   "metadata": {
    "id": "hxe81fvTTc2Y",
    "ExecuteTime": {
     "end_time": "2023-10-12T09:36:07.889187800Z",
     "start_time": "2023-10-12T09:36:07.867187500Z"
    }
   },
   "outputs": [
    {
     "name": "stdout",
     "output_type": "stream",
     "text": [
      "[37, 80, 348, 160, 106, 470, 161, 0, 69, 245]\n"
     ]
    }
   ],
   "source": [
    "# здесь може бути ваш код\n",
    "np.random.seed(12345)\n",
    "x=random.randint(100, size=(100))\n",
    "y=random.randint(100, size=(100))\n",
    "data=x*y\n",
    "rows, cols = 10, 10\n",
    "data_matrix = data.reshape(rows, cols)\n",
    "min_values_in_rows = [min(rows) for rows in data_matrix]\n",
    "print(min_values_in_rows)\n"
   ]
  },
  {
   "cell_type": "markdown",
   "metadata": {
    "id": "9aUDJg97Tc2Y"
   },
   "source": [
    "5. Повертаємось до одномірного масиву `data`.\n",
    "\n",
    "\n",
    "Знайдіть елементи масиву `data`, більші за 6000. Має бути\n",
    "\n",
    "array([6300, 6240, 8370, 6762])"
   ]
  },
  {
   "cell_type": "code",
   "execution_count": 26,
   "metadata": {
    "id": "Kt3aUaAGTc2Y",
    "ExecuteTime": {
     "end_time": "2023-10-12T09:52:31.736783700Z",
     "start_time": "2023-10-12T09:52:31.717278200Z"
    }
   },
   "outputs": [
    {
     "name": "stdout",
     "output_type": "stream",
     "text": [
      "[6300 6240 8370 6762]\n"
     ]
    }
   ],
   "source": [
    "# здесь може бути ваш код\n",
    "np.random.seed(12345)\n",
    "x=random.randint(100, size=(100))\n",
    "y=random.randint(100, size=(100))\n",
    "data=x*y\n",
    "more_than_six_thousand = np.logical_not(data < 6000)\n",
    "print(data[more_than_six_thousand])"
   ]
  },
  {
   "cell_type": "markdown",
   "metadata": {
    "id": "JBm6ulZsTc2Z"
   },
   "source": [
    "6. Скільки в масиві `data` елементів, які більше за 500 та менші за 1000?\n",
    "\n",
    "18"
   ]
  },
  {
   "cell_type": "code",
   "execution_count": 25,
   "metadata": {
    "id": "RKM2yRulTc2Z",
    "ExecuteTime": {
     "end_time": "2023-10-12T09:48:31.669034900Z",
     "start_time": "2023-10-12T09:48:31.654038200Z"
    }
   },
   "outputs": [
    {
     "name": "stdout",
     "output_type": "stream",
     "text": [
      "18\n"
     ]
    }
   ],
   "source": [
    "# здесь може бути ваш код\n",
    "np.random.seed(12345)\n",
    "x=random.randint(100, size=(100))\n",
    "y=random.randint(100, size=(100))\n",
    "data=x*y\n",
    "bigger_than_five_hundred_smaller_than_thousand = np.logical_and(data > 500, data <1000)\n",
    "new_array = data[bigger_than_five_hundred_smaller_than_thousand]\n",
    "count = len(new_array)\n",
    "print(count)"
   ]
  },
  {
   "cell_type": "markdown",
   "metadata": {
    "id": "DLsI2icoTc2Z"
   },
   "source": [
    "7. Визначте суму чисел в масиві `data`.\n",
    "\n",
    "216077"
   ]
  },
  {
   "cell_type": "code",
   "execution_count": 27,
   "metadata": {
    "id": "GkTo4hB7Tc2Z",
    "ExecuteTime": {
     "end_time": "2023-10-12T09:55:26.129062100Z",
     "start_time": "2023-10-12T09:55:26.112062300Z"
    }
   },
   "outputs": [
    {
     "name": "stdout",
     "output_type": "stream",
     "text": [
      "216077\n"
     ]
    }
   ],
   "source": [
    "np.random.seed(12345)\n",
    "x=random.randint(100, size=(100))\n",
    "y=random.randint(100, size=(100))\n",
    "data=x*y\n",
    "sum_list = sum(data)\n",
    "print(sum_list)"
   ]
  },
  {
   "cell_type": "markdown",
   "metadata": {
    "id": "8BrHyLomTc2Z"
   },
   "source": [
    "8. Замініть на `0` значення всіх єлементів, які менші ніж 100"
   ]
  },
  {
   "cell_type": "code",
   "execution_count": 31,
   "metadata": {
    "id": "-JPS8EziTc2Z",
    "ExecuteTime": {
     "end_time": "2023-10-12T10:12:08.643697300Z",
     "start_time": "2023-10-12T10:12:08.629696600Z"
    }
   },
   "outputs": [
    {
     "name": "stdout",
     "output_type": "stream",
     "text": [
      "[4410  522    0 2700  738  170 1740    0  531  910 4186 2000 3139  704\n",
      " 5929    0  648 1476  570  630 1376 2208 2494 3864 4565 2449 5978 2716\n",
      "  637  348 1404  192  258  160  195 6300  910 2025  220  170  106 5976\n",
      "  440 4704  205 2065  415  612  336 6240 2241 2318 3696 2304  470  888\n",
      "  836 1210 1068 1550 3936 1746 4600 5084 3990 2714 5568 1771  777  161\n",
      "  972 5166    0 8370    0 1425  896 1534 1118 1680 1188 2880    0 3840\n",
      "  570 5082 3381 1776 4608 3182 1922 5676  882 4030 1824  245 3162 5040\n",
      " 1065 6762]\n"
     ]
    }
   ],
   "source": [
    "# здесь може бути ваш код\n",
    "np.random.seed(12345)\n",
    "x=random.randint(100, size=(100))\n",
    "y=random.randint(100, size=(100))\n",
    "data=x*y\n",
    "data[data < 100] = 0\n",
    "print(data)"
   ]
  },
  {
   "cell_type": "markdown",
   "metadata": {
    "id": "hkRxCKSiTc2Z"
   },
   "source": [
    "9. На скільки зменшилась сума елементів масиву `data` після виконання попереднього завдання?\n",
    "\n",
    "302"
   ]
  },
  {
   "cell_type": "code",
   "execution_count": 35,
   "metadata": {
    "id": "f1CPVZ-2Tc2Z",
    "ExecuteTime": {
     "end_time": "2023-10-12T10:21:29.005832Z",
     "start_time": "2023-10-12T10:21:28.995834600Z"
    }
   },
   "outputs": [
    {
     "name": "stdout",
     "output_type": "stream",
     "text": [
      "302\n"
     ]
    }
   ],
   "source": [
    "# здесь може бути ваш код\n",
    "np.random.seed(12345)\n",
    "x=random.randint(100, size=(100))\n",
    "y=random.randint(100, size=(100))\n",
    "data=x*y\n",
    "sum_list = sum(data)\n",
    "data[data < 100] = 0\n",
    "new_sum_list = sum(data)\n",
    "print(sum_list - new_sum_list)"
   ]
  },
  {
   "cell_type": "code",
   "execution_count": null,
   "outputs": [],
   "source": [],
   "metadata": {
    "collapsed": false
   }
  }
 ],
 "metadata": {
  "kernelspec": {
   "display_name": "base",
   "language": "python",
   "name": "python3"
  },
  "language_info": {
   "codemirror_mode": {
    "name": "ipython",
    "version": 3
   },
   "file_extension": ".py",
   "mimetype": "text/x-python",
   "name": "python",
   "nbconvert_exporter": "python",
   "pygments_lexer": "ipython3",
   "version": "3.11.4"
  },
  "colab": {
   "provenance": []
  }
 },
 "nbformat": 4,
 "nbformat_minor": 0
}
